{
 "cells": [
  {
   "cell_type": "markdown",
   "id": "24dd0333",
   "metadata": {},
   "source": [
    "\n",
    "<h2> import </h2>\n"
   ]
  },
  {
   "cell_type": "code",
   "execution_count": 1,
   "id": "227dc25e",
   "metadata": {},
   "outputs": [
    {
     "name": "stderr",
     "output_type": "stream",
     "text": [
      "C:\\Users\\alalala\\Anaconda3\\lib\\site-packages\\scipy\\__init__.py:146: UserWarning: A NumPy version >=1.16.5 and <1.23.0 is required for this version of SciPy (detected version 1.23.1\n",
      "  warnings.warn(f\"A NumPy version >={np_minversion} and <{np_maxversion}\"\n"
     ]
    }
   ],
   "source": [
    "import geemap\n",
    "import os\n",
    "import ee\n",
    "import matplotlib.pyplot as plt\n",
    "from geemap import cartoee\n",
    "import cartopy.crs as ccrs\n",
    "from sqlalchemy import false, true\n",
    "\n",
    "geemap.ee_initialize()"
   ]
  },
  {
   "cell_type": "markdown",
   "id": "839593c7",
   "metadata": {},
   "source": [
    "<h3>設定年份經緯度</h3>"
   ]
  },
  {
   "cell_type": "code",
   "execution_count": 8,
   "id": "1c6d9408",
   "metadata": {},
   "outputs": [],
   "source": [
    "#經緯度要到小數點後面一點 \n",
    "lat = 133.35 # 緯度\n",
    "lon =  -31.372# 經度\n",
    "square = 0.8\n",
    "\n",
    "#設定範圍\n",
    "# yMin = lat - square\n",
    "# xMin = lon - square\n",
    "# yMax = lat + square\n",
    "# xMax = lon + square\n",
    "# rectangle = ee.Geometry.Rectangle(\n",
    "#   [xMin, yMin, xMax, yMax]\n",
    "# )\n",
    "point = ee.Geometry.Point(lon,lat)\n",
    "#設定時間\n",
    "start_year = 1984\n",
    "end_year = 2012\n",
    "years = ee.List.sequence(start_year, end_year)\n"
   ]
  },
  {
   "cell_type": "markdown",
   "id": "c6cbc5ad",
   "metadata": {},
   "source": [
    "\n",
    "\n",
    "<h3> 選取圖片 </h3>\n"
   ]
  },
  {
   "cell_type": "code",
   "execution_count": 9,
   "id": "489a6975",
   "metadata": {},
   "outputs": [],
   "source": [
    "def get_best_image(year):\n",
    "    start_date = ee.Date.fromYMD(year, 1, 1)\n",
    "    end_date = ee.Date.fromYMD(year, 12, 31)\n",
    "    image = (\n",
    "        ee.ImageCollection(\"LANDSAT/LT05/C02/T1_TOA\")\n",
    "        .filterBounds(point)#設定範圍\n",
    "        .filter(ee.Filter.calendarRange(1, 12, 'month'))#指定月份 1-12月\n",
    "        .filterDate(start_date, end_date)\n",
    "        .sort('CLOUD_COVER').first()#去雲\n",
    "        )\n",
    "    return ee.Image(image)\n",
    "\n",
    "#圖像可視化\n",
    "#https://developers.google.com/earth-engine/guides/image_visualization\n",
    "vis_params = {\"bands\": ['B3', 'B2', 'B1'],#rbg\n",
    "              \"min\": 0.0,\n",
    "              \"max\": 0.4,\n",
    "              \"gamma\" : 1.2, #亮度             \n",
    "            }\n",
    "\n",
    "collection = ee.ImageCollection(years.map(get_best_image))\n",
    "image = ee.Image(collection.first())"
   ]
  },
  {
   "cell_type": "markdown",
   "id": "b917c309",
   "metadata": {},
   "source": [
    "<h3>從地圖上看選取範圍<h3>\n"
   ]
  },
  {
   "cell_type": "code",
   "execution_count": 10,
   "id": "7b47b5d1",
   "metadata": {},
   "outputs": [
    {
     "data": {
      "application/vnd.jupyter.widget-view+json": {
       "model_id": "d81c654102764893be63af01d0959833",
       "version_major": 2,
       "version_minor": 0
      },
      "text/plain": [
       "Map(center=[133.35, -31.372], controls=(WidgetControl(options=['position', 'transparent_bg'], widget=HBox(chil…"
      ]
     },
     "metadata": {},
     "output_type": "display_data"
    }
   ],
   "source": [
    "#因為跑要時間所以註掉\n",
    "Map = geemap.Map()\n",
    "Map.addLayer(image, vis_params, 'First image')\n",
    "Map.setCenter(lon, lat, 8)\n",
    "Map"
   ]
  },
  {
   "cell_type": "markdown",
   "id": "3c837f79",
   "metadata": {},
   "source": [
    "\n",
    "<h3> 顯示圖片 </h3>\n"
   ]
  },
  {
   "cell_type": "code",
   "execution_count": null,
   "id": "409bc3ea",
   "metadata": {},
   "outputs": [],
   "source": [
    "#設定範圍\n",
    "w = 0.25\n",
    "h = 0.25\n",
    "region = [lon - w, lat - h, lon + w, lat + h]\n",
    "\n",
    "fig = plt.figure(figsize=(10, 7))\n",
    "ax = cartoee.get_map(image, region=region, vis_params=vis_params)\n",
    "plt.show()"
   ]
  },
  {
   "cell_type": "markdown",
   "id": "b6b7aaf1",
   "metadata": {},
   "source": [
    "<h3>下載圖片</h3>"
   ]
  },
  {
   "cell_type": "code",
   "execution_count": null,
   "id": "4e0e1395",
   "metadata": {},
   "outputs": [],
   "source": [
    "#collection.aggregate_array('system:index').getInfo()"
   ]
  },
  {
   "cell_type": "code",
   "execution_count": null,
   "id": "07f8da8b",
   "metadata": {},
   "outputs": [],
   "source": [
    "#設定路徑及資料夾名稱\n",
    "downloads_name = str(int(lon)) +\",\"+ str(int(lat))\n",
    "downloads_path = \"~/Downloads/\" + downloads_name\n",
    "\n",
    "#下載圖片 要用再解註\n",
    "# cartoee.get_image_collection_gif(\n",
    "#     ee_ic=collection,\n",
    "#     out_dir=os.path.expanduser(downloads_path),\n",
    "#     out_gif=\"1984-2012_timelapse.gif\",\n",
    "#     vis_params=vis_params,\n",
    "#     region=region,#選取範圍\n",
    "#     fps=3,\n",
    "#     plot_title=\" \",\n",
    "#     date_format='YYYY-MM-dd',\n",
    "#     fig_size=(10, 8),\n",
    "#     dpi_plot=100,\n",
    "#     file_format=\"png\",\n",
    "#     verbose=True,\n",
    "#   )\n"
   ]
  }
 ],
 "metadata": {
  "kernelspec": {
   "display_name": "Python 3 (ipykernel)",
   "language": "python",
   "name": "python3"
  },
  "language_info": {
   "codemirror_mode": {
    "name": "ipython",
    "version": 3
   },
   "file_extension": ".py",
   "mimetype": "text/x-python",
   "name": "python",
   "nbconvert_exporter": "python",
   "pygments_lexer": "ipython3",
   "version": "3.9.12"
  },
  "vscode": {
   "interpreter": {
    "hash": "23b8fda9da3a2a104a5aa7aa75e01582a86c23885ba37bc31bb5dabaa9da29ce"
   }
  }
 },
 "nbformat": 4,
 "nbformat_minor": 5
}
