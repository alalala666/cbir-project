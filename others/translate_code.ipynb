{
 "cells": [
  {
   "cell_type": "code",
   "execution_count": null,
   "metadata": {},
   "outputs": [],
   "source": [
    "#javaScript code to python code\n",
    "#有時候轉完會不能跑要自己調整\n",
    "import geemap\n",
    "js_snippet =\"\"\"\n",
    "\n",
    "var dataset = ee.ImageCollection('LANDSAT/LC08/C02/T2_L2')\n",
    "    .filterDate('2021-05-01', '2021-06-01');\n",
    "\n",
    "// Applies scaling factors.\n",
    "function applyScaleFactors(image) {\n",
    "  var opticalBands = image.select('SR_B.').multiply(0.0000275).add(-0.2);\n",
    "  var thermalBands = image.select('ST_B.*').multiply(0.00341802).add(149.0);\n",
    "  return image.addBands(opticalBands, null, true)\n",
    "              .addBands(thermalBands, null, true);\n",
    "}\n",
    "\n",
    "dataset = dataset.map(applyScaleFactors);\n",
    "\n",
    "var visualization = {\n",
    "  bands: ['SR_B4', 'SR_B3', 'SR_B2'],\n",
    "  min: 0.0,\n",
    "  max: 0.3,\n",
    "};\n",
    "\n",
    "Map.setCenter(-83, 24, 8);\n",
    "\n",
    "Map.addLayer(dataset, visualization, 'True Color (432)');\n",
    "\n",
    "\n",
    "\"\"\""
   ]
  },
  {
   "cell_type": "code",
   "execution_count": null,
   "metadata": {},
   "outputs": [],
   "source": [
    "geemap.js_snippet_to_py(\n",
    "    js_snippet, add_new_cell=True, import_ee=True, import_geemap=True, show_map=True\n",
    ")"
   ]
  },
  {
   "cell_type": "code",
   "execution_count": 3,
   "metadata": {},
   "outputs": [],
   "source": [
    "import ee\n",
    "import geemap\n",
    "\n",
    "Map = geemap.Map()\n",
    "import geemap\n",
    "lat = 35.6893 # 緯度\n",
    "lon = 139.6918 # 經度\n",
    "Map = geemap.Map()\n",
    "\n",
    "dataset = ee.ImageCollection('LANDSAT/LC08/C02/T1').filterDate('2021-05-01', '2021-06-01').sort('CLOUD_COVER').first()\n",
    "\n",
    "visualization = {\n",
    "  'bands': ['B4', 'B3', 'B2'],\n",
    "  'min': 0.0,\n",
    "  'max': 30000,\n",
    "}\n",
    "\n",
    "Map.setCenter(lon, lat, 8)\n",
    "\n",
    "Map.addLayer(dataset, visualization, 'True Color (432)')\n",
    "\n",
    "#Map\n"
   ]
  }
 ],
 "metadata": {
  "kernelspec": {
   "display_name": "Python 3.9.12 ('base')",
   "language": "python",
   "name": "python3"
  },
  "language_info": {
   "codemirror_mode": {
    "name": "ipython",
    "version": 3
   },
   "file_extension": ".py",
   "mimetype": "text/x-python",
   "name": "python",
   "nbconvert_exporter": "python",
   "pygments_lexer": "ipython3",
   "version": "3.9.12"
  },
  "orig_nbformat": 4,
  "vscode": {
   "interpreter": {
    "hash": "23b8fda9da3a2a104a5aa7aa75e01582a86c23885ba37bc31bb5dabaa9da29ce"
   }
  }
 },
 "nbformat": 4,
 "nbformat_minor": 2
}
