{
 "cells": [
  {
   "cell_type": "code",
   "execution_count": 1,
   "metadata": {},
   "outputs": [],
   "source": [
    "#javaScript code to python code\n",
    "#有時候轉完會不能跑要自己調整\n",
    "import geemap\n",
    "js_snippet =\"\"\"\n",
    "\n",
    "var dataset = ee.ImageCollection('LANDSAT/LM03/C02/T2')\n",
    "                  .filterDate('1978-01-01', '1980-12-31');\n",
    "var nearInfrared321 = dataset.select(['B6', 'B5', 'B4']);\n",
    "var nearInfrared321Vis = {};\n",
    "Map.setCenter(6.746, 46.529, 6);\n",
    "Map.addLayer(nearInfrared321, nearInfrared321Vis, 'Near Infrared (321)');\n",
    "Map.addLayer(dataset, visualization, 'True Color (432)');\n",
    "\n",
    "\n",
    "\"\"\""
   ]
  },
  {
   "cell_type": "code",
   "execution_count": 2,
   "metadata": {},
   "outputs": [],
   "source": [
    "geemap.js_snippet_to_py(\n",
    "    js_snippet, add_new_cell=True, import_ee=True, import_geemap=True, show_map=True\n",
    ")"
   ]
  },
  {
   "cell_type": "code",
   "execution_count": 9,
   "metadata": {},
   "outputs": [
    {
     "data": {
      "application/vnd.jupyter.widget-view+json": {
       "model_id": "0ad757cd6b0e4c7ab6f34d0bc3f4f4e6",
       "version_major": 2,
       "version_minor": 0
      },
      "text/plain": [
       "Map(center=[35.6893, 139.6918], controls=(WidgetControl(options=['position', 'transparent_bg'], widget=HBox(ch…"
      ]
     },
     "metadata": {},
     "output_type": "display_data"
    }
   ],
   "source": [
    "import ee\n",
    "import geemap\n",
    "\n",
    "Map = geemap.Map()\n",
    "import geemap\n",
    "\n",
    "Map = geemap.Map()\n",
    "\n",
    "point = ee.Geometry.Point(139.6918,35.6893)\n",
    "dataset = ee.ImageCollection('LANDSAT/LM03/C02/T2') \\\n",
    "                  .filterDate('1978-01-01', '1980-12-31')\\\n",
    "                  .filterBounds(point)\n",
    "\n",
    "nearInfrared321 = dataset.select([ 'B7','B5', 'B4'])\n",
    "nearInfrared321Vis = {}\n",
    "Map.setCenter(139.6918,35.6893, 6)\n",
    "Map.addLayer(nearInfrared321, nearInfrared321Vis, 'Near Infrared (321)')\n",
    "#Map.addLayer(dataset, visualization, 'True Color (432)')\n",
    "\n",
    "Map\n"
   ]
  }
 ],
 "metadata": {
  "kernelspec": {
   "display_name": "Python 3.9.12 ('base')",
   "language": "python",
   "name": "python3"
  },
  "language_info": {
   "codemirror_mode": {
    "name": "ipython",
    "version": 3
   },
   "file_extension": ".py",
   "mimetype": "text/x-python",
   "name": "python",
   "nbconvert_exporter": "python",
   "pygments_lexer": "ipython3",
   "version": "3.9.12"
  },
  "orig_nbformat": 4,
  "vscode": {
   "interpreter": {
    "hash": "23b8fda9da3a2a104a5aa7aa75e01582a86c23885ba37bc31bb5dabaa9da29ce"
   }
  }
 },
 "nbformat": 4,
 "nbformat_minor": 2
}
