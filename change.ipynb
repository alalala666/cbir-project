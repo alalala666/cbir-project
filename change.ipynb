{
 "cells": [
  {
   "cell_type": "code",
   "execution_count": 2,
   "metadata": {},
   "outputs": [],
   "source": [
    "#javaScript code to python code\n",
    "#有時候轉完會不能跑要自己調整\n",
    "import geemap\n",
    "\n",
    "\n",
    "js_snippet = \"\"\"\n",
    "\n",
    "\n",
    "\n",
    "\n",
    "\"\"\"\n",
    "\n",
    "geemap.js_snippet_to_py(\n",
    "    js_snippet, add_new_cell=True, import_ee=True, import_geemap=True, show_map=True\n",
    ")"
   ]
  },
  {
   "cell_type": "code",
   "execution_count": null,
   "metadata": {},
   "outputs": [],
   "source": [
    "import ee\n",
    "import geemap\n",
    "\n",
    "Map = geemap.Map()\n",
    "import geemap\n",
    "\n",
    "Map = geemap.Map()\n",
    "\n",
    "def mask_clouds_landsat8(image):\n",
    "  # Bits 3 and 5 are cloud shadow and cloud, respectively\n",
    "  cloudShadowBitMask = (1 << 3); # 1000 in base 2\n",
    "  cloudsBitMask = (1 << 5); # 100000 in base 2\n",
    "\n",
    "  # Get the pixel QA band\n",
    "  qa = image.select('pixel_qa')\n",
    "\n",
    "  # Both flags should be set to zero, indicating clear conditions\n",
    "  mask = qa \\\n",
    "    .bitwiseAnd(cloudShadowBitMask).eq(0) \\\n",
    "    .And(qa.bitwiseAnd(cloudsBitMask).eq(0))\n",
    "\n",
    "  # Mask image with clouds and shadows\n",
    "  return image.updateMask(mask)\n",
    "\n",
    "MapMap\n"
   ]
  },
  {
   "cell_type": "code",
   "execution_count": null,
   "metadata": {},
   "outputs": [],
   "source": []
  }
 ],
 "metadata": {
  "kernelspec": {
   "display_name": "Python 3.9.12 ('base')",
   "language": "python",
   "name": "python3"
  },
  "language_info": {
   "codemirror_mode": {
    "name": "ipython",
    "version": 3
   },
   "file_extension": ".py",
   "mimetype": "text/x-python",
   "name": "python",
   "nbconvert_exporter": "python",
   "pygments_lexer": "ipython3",
   "version": "3.9.12"
  },
  "orig_nbformat": 4,
  "vscode": {
   "interpreter": {
    "hash": "23b8fda9da3a2a104a5aa7aa75e01582a86c23885ba37bc31bb5dabaa9da29ce"
   }
  }
 },
 "nbformat": 4,
 "nbformat_minor": 2
}
